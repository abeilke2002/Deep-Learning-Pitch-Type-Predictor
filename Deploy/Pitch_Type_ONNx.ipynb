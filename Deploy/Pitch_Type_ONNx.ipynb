{
 "cells": [
  {
   "cell_type": "code",
   "execution_count": 9,
   "id": "31feb4c0",
   "metadata": {},
   "outputs": [],
   "source": [
    "import numpy as np\n",
    "import torch\n",
    "import pandas as pd\n",
    "import sklearn\n",
    "import random\n",
    "\n",
    "import torch.nn as nn\n",
    "import torch.nn.functional as F\n",
    "import torch.optim as optim\n",
    "\n",
    "import seaborn as sns\n",
    "import matplotlib.pyplot as plt\n",
    "\n",
    "from mlxtend.plotting import heatmap\n",
    "from sklearn.model_selection import train_test_split\n",
    "from torch.utils.data import TensorDataset, DataLoader\n",
    "\n",
    "## coefficient of determination \n",
    "from sklearn.metrics import r2_score\n",
    "\n",
    "from sklearn.metrics import confusion_matrix\n",
    "from sklearn.metrics import precision_score, recall_score, accuracy_score, f1_score\n",
    "\n",
    "\n",
    "import onnxruntime as rt\n",
    "#import onnxmltools\n",
    "\n",
    "#from skl2onnx.common.data_types import FloatTensorType"
   ]
  },
  {
   "cell_type": "markdown",
   "id": "402ea4e3",
   "metadata": {},
   "source": [
    "## Parameters\n"
   ]
  },
  {
   "cell_type": "code",
   "execution_count": 10,
   "id": "d8984064",
   "metadata": {},
   "outputs": [],
   "source": [
    "\n",
    "batch_size    = 16\n",
    "learning_rate = 0.005 ## 0.001\n",
    "N_Epochs      = 100\n",
    "\n",
    "epsilon = 0.0001"
   ]
  },
  {
   "cell_type": "code",
   "execution_count": 11,
   "id": "b77a470e",
   "metadata": {},
   "outputs": [],
   "source": [
    "path_data = \"/Users/aidanbeilke/Desktop/Python/pitch_type.csv\"\n",
    "\n",
    "pitch_type_data = pd.read_csv( path_data )"
   ]
  },
  {
   "cell_type": "code",
   "execution_count": 12,
   "id": "b88bc116",
   "metadata": {},
   "outputs": [
    {
     "data": {
      "text/plain": [
       "(114244, 7)"
      ]
     },
     "execution_count": 12,
     "metadata": {},
     "output_type": "execute_result"
    }
   ],
   "source": [
    "pitch_type_data.shape"
   ]
  },
  {
   "cell_type": "code",
   "execution_count": 13,
   "id": "6006bd8e",
   "metadata": {},
   "outputs": [],
   "source": [
    "pitch_type_data = pitch_type_data.dropna()"
   ]
  },
  {
   "cell_type": "code",
   "execution_count": 14,
   "id": "047f277b",
   "metadata": {},
   "outputs": [
    {
     "data": {
      "text/plain": [
       "(110674, 7)"
      ]
     },
     "execution_count": 14,
     "metadata": {},
     "output_type": "execute_result"
    }
   ],
   "source": [
    "pitch_type_data.shape"
   ]
  },
  {
   "cell_type": "code",
   "execution_count": 15,
   "id": "39ea3d2d",
   "metadata": {},
   "outputs": [
    {
     "data": {
      "text/html": [
       "<div>\n",
       "<style scoped>\n",
       "    .dataframe tbody tr th:only-of-type {\n",
       "        vertical-align: middle;\n",
       "    }\n",
       "\n",
       "    .dataframe tbody tr th {\n",
       "        vertical-align: top;\n",
       "    }\n",
       "\n",
       "    .dataframe thead th {\n",
       "        text-align: right;\n",
       "    }\n",
       "</style>\n",
       "<table border=\"1\" class=\"dataframe\">\n",
       "  <thead>\n",
       "    <tr style=\"text-align: right;\">\n",
       "      <th></th>\n",
       "      <th>Unnamed: 0</th>\n",
       "      <th>pitch_type</th>\n",
       "      <th>release_speed</th>\n",
       "      <th>release_spin_rate</th>\n",
       "      <th>pfx_x</th>\n",
       "      <th>pfx_z</th>\n",
       "      <th>is_lefty</th>\n",
       "    </tr>\n",
       "  </thead>\n",
       "  <tbody>\n",
       "    <tr>\n",
       "      <th>0</th>\n",
       "      <td>3125</td>\n",
       "      <td>CH</td>\n",
       "      <td>90.1</td>\n",
       "      <td>1990.0</td>\n",
       "      <td>-1.53</td>\n",
       "      <td>0.28</td>\n",
       "      <td>0</td>\n",
       "    </tr>\n",
       "    <tr>\n",
       "      <th>1</th>\n",
       "      <td>3274</td>\n",
       "      <td>FF</td>\n",
       "      <td>96.7</td>\n",
       "      <td>2189.0</td>\n",
       "      <td>-0.35</td>\n",
       "      <td>1.28</td>\n",
       "      <td>0</td>\n",
       "    </tr>\n",
       "    <tr>\n",
       "      <th>2</th>\n",
       "      <td>3413</td>\n",
       "      <td>SL</td>\n",
       "      <td>84.3</td>\n",
       "      <td>2617.0</td>\n",
       "      <td>1.13</td>\n",
       "      <td>0.05</td>\n",
       "      <td>0</td>\n",
       "    </tr>\n",
       "    <tr>\n",
       "      <th>3</th>\n",
       "      <td>3580</td>\n",
       "      <td>CH</td>\n",
       "      <td>89.5</td>\n",
       "      <td>2037.0</td>\n",
       "      <td>-1.31</td>\n",
       "      <td>0.41</td>\n",
       "      <td>0</td>\n",
       "    </tr>\n",
       "    <tr>\n",
       "      <th>4</th>\n",
       "      <td>3635</td>\n",
       "      <td>SL</td>\n",
       "      <td>84.5</td>\n",
       "      <td>2525.0</td>\n",
       "      <td>0.37</td>\n",
       "      <td>0.20</td>\n",
       "      <td>0</td>\n",
       "    </tr>\n",
       "  </tbody>\n",
       "</table>\n",
       "</div>"
      ],
      "text/plain": [
       "   Unnamed: 0 pitch_type  release_speed  release_spin_rate  pfx_x  pfx_z  \\\n",
       "0        3125         CH           90.1             1990.0  -1.53   0.28   \n",
       "1        3274         FF           96.7             2189.0  -0.35   1.28   \n",
       "2        3413         SL           84.3             2617.0   1.13   0.05   \n",
       "3        3580         CH           89.5             2037.0  -1.31   0.41   \n",
       "4        3635         SL           84.5             2525.0   0.37   0.20   \n",
       "\n",
       "   is_lefty  \n",
       "0         0  \n",
       "1         0  \n",
       "2         0  \n",
       "3         0  \n",
       "4         0  "
      ]
     },
     "execution_count": 15,
     "metadata": {},
     "output_type": "execute_result"
    }
   ],
   "source": [
    "pitch_type_data.head()"
   ]
  },
  {
   "cell_type": "code",
   "execution_count": 16,
   "id": "83e5533a",
   "metadata": {},
   "outputs": [],
   "source": [
    "pitch_type_data = pitch_type_data.drop(columns=['Unnamed: 0'])"
   ]
  },
  {
   "cell_type": "markdown",
   "id": "d7ca685b",
   "metadata": {},
   "source": [
    "## Data Analysis"
   ]
  },
  {
   "cell_type": "code",
   "execution_count": 17,
   "id": "36e041e8",
   "metadata": {},
   "outputs": [
    {
     "data": {
      "text/html": [
       "<div>\n",
       "<style scoped>\n",
       "    .dataframe tbody tr th:only-of-type {\n",
       "        vertical-align: middle;\n",
       "    }\n",
       "\n",
       "    .dataframe tbody tr th {\n",
       "        vertical-align: top;\n",
       "    }\n",
       "\n",
       "    .dataframe thead th {\n",
       "        text-align: right;\n",
       "    }\n",
       "</style>\n",
       "<table border=\"1\" class=\"dataframe\">\n",
       "  <thead>\n",
       "    <tr style=\"text-align: right;\">\n",
       "      <th></th>\n",
       "      <th>pitch_type</th>\n",
       "      <th>pitch_type_code</th>\n",
       "    </tr>\n",
       "  </thead>\n",
       "  <tbody>\n",
       "    <tr>\n",
       "      <th>0</th>\n",
       "      <td>CH</td>\n",
       "      <td>0</td>\n",
       "    </tr>\n",
       "    <tr>\n",
       "      <th>32</th>\n",
       "      <td>CU</td>\n",
       "      <td>1</td>\n",
       "    </tr>\n",
       "    <tr>\n",
       "      <th>40</th>\n",
       "      <td>FC</td>\n",
       "      <td>2</td>\n",
       "    </tr>\n",
       "    <tr>\n",
       "      <th>1</th>\n",
       "      <td>FF</td>\n",
       "      <td>3</td>\n",
       "    </tr>\n",
       "    <tr>\n",
       "      <th>90</th>\n",
       "      <td>FS</td>\n",
       "      <td>4</td>\n",
       "    </tr>\n",
       "    <tr>\n",
       "      <th>14</th>\n",
       "      <td>SI</td>\n",
       "      <td>5</td>\n",
       "    </tr>\n",
       "    <tr>\n",
       "      <th>2</th>\n",
       "      <td>SL</td>\n",
       "      <td>6</td>\n",
       "    </tr>\n",
       "    <tr>\n",
       "      <th>366</th>\n",
       "      <td>ST</td>\n",
       "      <td>7</td>\n",
       "    </tr>\n",
       "    <tr>\n",
       "      <th>3678</th>\n",
       "      <td>SV</td>\n",
       "      <td>8</td>\n",
       "    </tr>\n",
       "  </tbody>\n",
       "</table>\n",
       "</div>"
      ],
      "text/plain": [
       "     pitch_type  pitch_type_code\n",
       "0            CH                0\n",
       "32           CU                1\n",
       "40           FC                2\n",
       "1            FF                3\n",
       "90           FS                4\n",
       "14           SI                5\n",
       "2            SL                6\n",
       "366          ST                7\n",
       "3678         SV                8"
      ]
     },
     "execution_count": 17,
     "metadata": {},
     "output_type": "execute_result"
    }
   ],
   "source": [
    "pitch_type_data['pitch_type_code'] = pitch_type_data['pitch_type'].astype('category').cat.codes\n",
    "\n",
    "pitch_type_data.loc[:, ['pitch_type', 'pitch_type_code']].drop_duplicates().sort_values('pitch_type_code')"
   ]
  },
  {
   "cell_type": "code",
   "execution_count": 18,
   "id": "95f82c6e",
   "metadata": {},
   "outputs": [
    {
     "data": {
      "text/plain": [
       "0         0\n",
       "1         3\n",
       "2         6\n",
       "3         0\n",
       "4         6\n",
       "         ..\n",
       "114239    4\n",
       "114240    7\n",
       "114241    7\n",
       "114242    3\n",
       "114243    3\n",
       "Name: pitch_type_code, Length: 110674, dtype: category\n",
       "Categories (9, int8): [0, 1, 2, 3, ..., 5, 6, 7, 8]"
      ]
     },
     "execution_count": 18,
     "metadata": {},
     "output_type": "execute_result"
    }
   ],
   "source": [
    "pitch_type_data['pitch_type_code'].astype('category')"
   ]
  },
  {
   "cell_type": "code",
   "execution_count": 19,
   "id": "d92faffd",
   "metadata": {},
   "outputs": [
    {
     "data": {
      "image/png": "[encoded data removed]",
      "text/plain": [
       "<Figure size 640x480 with 1 Axes>"
      ]
     },
     "metadata": {},
     "output_type": "display_data"
    }
   ],
   "source": [
    "_ = plt.hist( pitch_type_data['pitch_type_code'] , bins=\"auto\" )\n",
    "plt.show()"
   ]
  },
  {
   "cell_type": "code",
   "execution_count": 20,
   "id": "021e7b76",
   "metadata": {},
   "outputs": [
    {
     "name": "stderr",
     "output_type": "stream",
     "text": [
      "/var/folders/z9/0qsxxzxs1hb9r22xy18sfdbc0000gn/T/ipykernel_30771/1925757933.py:4: DeprecationWarning: DataFrameGroupBy.apply operated on the grouping columns. This behavior is deprecated, and in a future version of pandas the grouping columns will be excluded from the operation. Either pass `include_groups=False` to exclude the groupings or explicitly select the grouping columns after groupby to silence this warning.\n",
      "  balanced_pitch_type_data = pitch_type_data.groupby('pitch_type_code').apply(lambda x: x.sample(min_count)).reset_index(drop=True)\n"
     ]
    }
   ],
   "source": [
    "min_count = pitch_type_data['pitch_type_code'].value_counts().min()\n",
    "\n",
    "# Perform undersampling\n",
    "balanced_pitch_type_data = pitch_type_data.groupby('pitch_type_code').apply(lambda x: x.sample(min_count)).reset_index(drop=True)"
   ]
  },
  {
   "cell_type": "code",
   "execution_count": 21,
   "id": "569c86bf",
   "metadata": {},
   "outputs": [
    {
     "data": {
      "image/png": "[encoded data removed]",
      "text/plain": [
       "<Figure size 640x480 with 1 Axes>"
      ]
     },
     "metadata": {},
     "output_type": "display_data"
    }
   ],
   "source": [
    "_ = plt.hist( balanced_pitch_type_data['pitch_type_code'] , bins=\"auto\" )\n",
    "plt.show()"
   ]
  },
  {
   "cell_type": "code",
   "execution_count": null,
   "id": "c4efef00",
   "metadata": {},
   "outputs": [],
   "source": []
  },
  {
   "cell_type": "markdown",
   "id": "25aa7722",
   "metadata": {},
   "source": [
    "## Process Data"
   ]
  },
  {
   "cell_type": "code",
   "execution_count": 22,
   "id": "eede63d3",
   "metadata": {},
   "outputs": [],
   "source": [
    "cleaned_pitch_type_data = balanced_pitch_type_data.dropna()"
   ]
  },
  {
   "cell_type": "code",
   "execution_count": 23,
   "id": "2bf2d1ad",
   "metadata": {},
   "outputs": [],
   "source": [
    "\n",
    "## Convert Pandas to Numpy\n",
    "\n",
    "pitch_type_data_np = cleaned_pitch_type_data.to_numpy()\n",
    "\n"
   ]
  },
  {
   "cell_type": "code",
   "execution_count": 24,
   "id": "7b02d502",
   "metadata": {},
   "outputs": [
    {
     "data": {
      "text/plain": [
       "array([['CH', 82.8, 1531.0, ..., -0.02, 1, 0],\n",
       "       ['CH', 86.5, 1523.0, ..., -0.28, 0, 0],\n",
       "       ['CH', 86.1, 1336.0, ..., 0.73, 0, 0],\n",
       "       ...,\n",
       "       ['SV', 83.3, 2248.0, ..., -0.6, 0, 8],\n",
       "       ['SV', 81.6, 2799.0, ..., 0.23, 0, 8],\n",
       "       ['SV', 82.7, 2606.0, ..., -0.18, 0, 8]], dtype=object)"
      ]
     },
     "execution_count": 24,
     "metadata": {},
     "output_type": "execute_result"
    }
   ],
   "source": [
    "\n",
    "pitch_type_data_np\n"
   ]
  },
  {
   "cell_type": "code",
   "execution_count": 25,
   "id": "e543cc6c",
   "metadata": {},
   "outputs": [
    {
     "data": {
      "text/plain": [
       "(2592, 7)"
      ]
     },
     "execution_count": 25,
     "metadata": {},
     "output_type": "execute_result"
    }
   ],
   "source": [
    "pitch_type_data_np.shape"
   ]
  },
  {
   "cell_type": "code",
   "execution_count": 82,
   "id": "4f258fbb",
   "metadata": {},
   "outputs": [],
   "source": [
    "\n",
    "X = pitch_type_data_np[:, 1:6]\n",
    "\n",
    "\n",
    "y = pitch_type_data_np[:, 6:7]\n"
   ]
  },
  {
   "cell_type": "code",
   "execution_count": 83,
   "id": "e03b8fc3",
   "metadata": {},
   "outputs": [
    {
     "data": {
      "text/plain": [
       "array([[0],\n",
       "       [0],\n",
       "       [0],\n",
       "       ...,\n",
       "       [8],\n",
       "       [8],\n",
       "       [8]], dtype=object)"
      ]
     },
     "execution_count": 83,
     "metadata": {},
     "output_type": "execute_result"
    }
   ],
   "source": [
    "\n",
    "y\n"
   ]
  },
  {
   "cell_type": "code",
   "execution_count": 84,
   "id": "ab78e0f8",
   "metadata": {},
   "outputs": [
    {
     "data": {
      "text/plain": [
       "array([[82.8, 1531.0, 1.16, -0.02, 1],\n",
       "       [86.5, 1523.0, -0.77, -0.28, 0],\n",
       "       [86.1, 1336.0, -1.07, 0.73, 0],\n",
       "       ...,\n",
       "       [83.3, 2248.0, 1.6, -0.6, 0],\n",
       "       [81.6, 2799.0, 1.43, 0.23, 0],\n",
       "       [82.7, 2606.0, 1.18, -0.18, 0]], dtype=object)"
      ]
     },
     "execution_count": 84,
     "metadata": {},
     "output_type": "execute_result"
    }
   ],
   "source": [
    "X"
   ]
  },
  {
   "cell_type": "code",
   "execution_count": 85,
   "id": "1ed04584",
   "metadata": {},
   "outputs": [
    {
     "name": "stdout",
     "output_type": "stream",
     "text": [
      "(2592, 5)\n",
      "(2592, 1)\n"
     ]
    }
   ],
   "source": [
    "\n",
    "print(X.shape)\n",
    "\n",
    "print(y.shape)\n"
   ]
  },
  {
   "cell_type": "code",
   "execution_count": 86,
   "id": "652ca8fa",
   "metadata": {},
   "outputs": [],
   "source": [
    "\n",
    "random_seed = int( random.random() * 100 )     ## 42\n"
   ]
  },
  {
   "cell_type": "code",
   "execution_count": 87,
   "id": "85396cbc",
   "metadata": {},
   "outputs": [],
   "source": [
    "\n",
    "X_train, X_test, y_train, y_test = train_test_split(X, y, test_size=0.2, random_state=random_seed)\n"
   ]
  },
  {
   "cell_type": "code",
   "execution_count": 88,
   "id": "b9d0ad17",
   "metadata": {},
   "outputs": [
    {
     "name": "stdout",
     "output_type": "stream",
     "text": [
      "(2073, 5)\n",
      "(519, 5)\n",
      "(2073, 1)\n",
      "(519, 1)\n"
     ]
    }
   ],
   "source": [
    "\n",
    "print(X_train.shape)\n",
    "print(X_test.shape)\n",
    "print(y_train.shape)\n",
    "print(y_test.shape)\n",
    "\n"
   ]
  },
  {
   "cell_type": "markdown",
   "id": "0fa5a84b",
   "metadata": {},
   "source": [
    "## Change to Float 32\n",
    "\n"
   ]
  },
  {
   "cell_type": "code",
   "execution_count": 89,
   "id": "cfac8ded",
   "metadata": {},
   "outputs": [],
   "source": [
    "X_train = X_train.astype(  np.float32  )\n",
    "X_test  = X_test.astype(   np.float32  )"
   ]
  },
  {
   "cell_type": "code",
   "execution_count": 90,
   "id": "678b6dbf",
   "metadata": {},
   "outputs": [],
   "source": [
    "X_train = torch.from_numpy(X_train )\n",
    "X_test = torch.from_numpy( X_test  )"
   ]
  },
  {
   "cell_type": "markdown",
   "id": "b6954089",
   "metadata": {},
   "source": [
    "## Print Shapes"
   ]
  },
  {
   "cell_type": "code",
   "execution_count": 91,
   "id": "e967599e",
   "metadata": {},
   "outputs": [
    {
     "data": {
      "text/plain": [
       "2073"
      ]
     },
     "execution_count": 91,
     "metadata": {},
     "output_type": "execute_result"
    }
   ],
   "source": [
    "X_train.shape[0]"
   ]
  },
  {
   "cell_type": "code",
   "execution_count": 92,
   "id": "1a2f51ec",
   "metadata": {},
   "outputs": [
    {
     "data": {
      "text/plain": [
       "5"
      ]
     },
     "execution_count": 92,
     "metadata": {},
     "output_type": "execute_result"
    }
   ],
   "source": [
    "y_train[203].item()"
   ]
  },
  {
   "cell_type": "code",
   "execution_count": 93,
   "id": "58194613",
   "metadata": {},
   "outputs": [
    {
     "data": {
      "text/plain": [
       "tensor([7.6100e+01, 2.6540e+03, 1.7600e+00, 4.4000e-01, 0.0000e+00])"
      ]
     },
     "execution_count": 93,
     "metadata": {},
     "output_type": "execute_result"
    }
   ],
   "source": [
    "\n",
    "X_train[78]\n"
   ]
  },
  {
   "cell_type": "code",
   "execution_count": 94,
   "id": "942a85dc",
   "metadata": {},
   "outputs": [],
   "source": [
    "\n",
    "CIFAR_train_list = [  ( X_train[i],  y_train[i].item() )  for i in range( X_train.shape[0]   )  ]\n"
   ]
  },
  {
   "cell_type": "code",
   "execution_count": 95,
   "id": "ce4fcb42",
   "metadata": {},
   "outputs": [],
   "source": [
    "\n",
    "CIFAR_test_list = [  ( X_test[i],  y_test[i].item() )  for i in range( X_test.shape[0]   )  ]\n"
   ]
  },
  {
   "cell_type": "markdown",
   "id": "2a6e6d78",
   "metadata": {},
   "source": [
    "## Dataloader"
   ]
  },
  {
   "cell_type": "code",
   "execution_count": 96,
   "id": "b37c2b0d",
   "metadata": {},
   "outputs": [],
   "source": [
    "batch_size = 16"
   ]
  },
  {
   "cell_type": "code",
   "execution_count": 97,
   "id": "637f4542",
   "metadata": {},
   "outputs": [],
   "source": [
    "train_dl = torch.utils.data.DataLoader( CIFAR_train_list, batch_size=batch_size, shuffle=True  )"
   ]
  },
  {
   "cell_type": "code",
   "execution_count": 98,
   "id": "6aab5e62",
   "metadata": {},
   "outputs": [],
   "source": [
    "test_dl = torch.utils.data.DataLoader( CIFAR_test_list, batch_size=10000, shuffle=True  )"
   ]
  },
  {
   "cell_type": "markdown",
   "id": "775e8ef8",
   "metadata": {},
   "source": [
    "## Architecture"
   ]
  },
  {
   "cell_type": "code",
   "execution_count": 99,
   "id": "6c0a5741",
   "metadata": {},
   "outputs": [],
   "source": [
    "\n",
    "\n",
    "class MLP_net(nn.Module):\n",
    "    ## init the class\n",
    "    def __init__(self):\n",
    "        super().__init__()\n",
    "        \n",
    "        self.linear1 = nn.Linear( 5 ,20)\n",
    "        self.act1    = nn.Sigmoid()\n",
    "        self.linear2 = nn.Linear(20 , 9)\n",
    "        self.act2    = nn.Softmax(dim=1)\n",
    "        \n",
    "    ## perform inference\n",
    "    def forward(self, x):\n",
    "        \n",
    "        x            = self.linear1(x)\n",
    "        x            = self.act1(x)\n",
    "        x            = self.linear2(x)\n",
    "        y_pred       = self.act2(x)\n",
    "        \n",
    "        return y_pred\n"
   ]
  },
  {
   "cell_type": "code",
   "execution_count": 108,
   "id": "f101f278",
   "metadata": {},
   "outputs": [],
   "source": [
    "class ComplexMLP(nn.Module):\n",
    "    def __init__(self):\n",
    "        super().__init__()\n",
    "\n",
    "        self.linear1 = nn.Linear(5, 128)  \n",
    "        self.batch_norm1 = nn.BatchNorm1d(128)  \n",
    "        self.dropout1 = nn.Dropout(0.5) \n",
    "\n",
    "        self.linear2 = nn.Linear(128, 64)\n",
    "        self.batch_norm2 = nn.BatchNorm1d(64)\n",
    "        self.dropout2 = nn.Dropout(0.3)\n",
    "\n",
    "        self.linear3 = nn.Linear(64, 32)\n",
    "        self.batch_norm3 = nn.BatchNorm1d(32)\n",
    "        self.dropout3 = nn.Dropout(0.2)\n",
    "\n",
    "        self.linear4 = nn.Linear(32, 9)  \n",
    "\n",
    "    def forward(self, x):\n",
    "        x = F.relu(self.batch_norm1(self.linear1(x)))\n",
    "        x = self.dropout1(x)\n",
    "        x = F.relu(self.batch_norm2(self.linear2(x)))\n",
    "        x = self.dropout2(x)\n",
    "        x = F.relu(self.batch_norm3(self.linear3(x)))\n",
    "        x = self.dropout3(x)\n",
    "        logits = self.linear4(x)\n",
    "        \n",
    "        \n",
    "        y_pred = F.softmax(logits, dim=1)\n",
    "        return y_pred\n"
   ]
  },
  {
   "cell_type": "code",
   "execution_count": 101,
   "id": "9900c47d",
   "metadata": {},
   "outputs": [],
   "source": [
    "\n",
    "def training_loop( N_Epochs, model, loss_fn, opt ):\n",
    "    for epoch in range(N_Epochs):\n",
    "        for xb, yb in train_dl:\n",
    "            \n",
    "            ## xb = xb.view(  (16, -1 ) )\n",
    "            \n",
    "            y_pred = model(xb)\n",
    "            \n",
    "            loss = loss_fn(y_pred, yb)\n",
    "            \n",
    "            opt.zero_grad()\n",
    "            loss.backward()\n",
    "            opt.step()\n",
    "        \n",
    "        if epoch % 5 == 0:\n",
    "            print(epoch, \"loss=\", loss)\n"
   ]
  },
  {
   "cell_type": "markdown",
   "id": "ac3e80f0",
   "metadata": {},
   "source": [
    "## Core Functions"
   ]
  },
  {
   "cell_type": "code",
   "execution_count": 116,
   "id": "af3f06f8",
   "metadata": {},
   "outputs": [],
   "source": [
    "N_Epochs      = 300\n",
    "learning_rate = 0.001"
   ]
  },
  {
   "cell_type": "code",
   "execution_count": 117,
   "id": "f29da25f",
   "metadata": {},
   "outputs": [],
   "source": [
    "\n",
    "\n",
    "model = ComplexMLP()\n",
    "\n",
    "opt = torch.optim.Adam(  model.parameters(), lr=learning_rate  )\n",
    "\n",
    "loss_fn = nn.CrossEntropyLoss()\n"
   ]
  },
  {
   "cell_type": "code",
   "execution_count": 118,
   "id": "96a5a83a",
   "metadata": {},
   "outputs": [
    {
     "name": "stdout",
     "output_type": "stream",
     "text": [
      "0 loss= tensor(2.1502, grad_fn=<NllLossBackward0>)\n",
      "5 loss= tensor(1.9290, grad_fn=<NllLossBackward0>)\n",
      "10 loss= tensor(1.9444, grad_fn=<NllLossBackward0>)\n",
      "15 loss= tensor(2.1744, grad_fn=<NllLossBackward0>)\n",
      "20 loss= tensor(1.6462, grad_fn=<NllLossBackward0>)\n",
      "25 loss= tensor(1.6615, grad_fn=<NllLossBackward0>)\n",
      "30 loss= tensor(1.9138, grad_fn=<NllLossBackward0>)\n",
      "35 loss= tensor(1.6057, grad_fn=<NllLossBackward0>)\n",
      "40 loss= tensor(1.9092, grad_fn=<NllLossBackward0>)\n",
      "45 loss= tensor(1.9158, grad_fn=<NllLossBackward0>)\n",
      "50 loss= tensor(1.9263, grad_fn=<NllLossBackward0>)\n",
      "55 loss= tensor(2.1666, grad_fn=<NllLossBackward0>)\n",
      "60 loss= tensor(1.9854, grad_fn=<NllLossBackward0>)\n",
      "65 loss= tensor(1.5995, grad_fn=<NllLossBackward0>)\n",
      "70 loss= tensor(1.9257, grad_fn=<NllLossBackward0>)\n",
      "75 loss= tensor(2.0582, grad_fn=<NllLossBackward0>)\n",
      "80 loss= tensor(1.9519, grad_fn=<NllLossBackward0>)\n",
      "85 loss= tensor(1.8736, grad_fn=<NllLossBackward0>)\n",
      "90 loss= tensor(1.6782, grad_fn=<NllLossBackward0>)\n",
      "95 loss= tensor(1.5123, grad_fn=<NllLossBackward0>)\n",
      "100 loss= tensor(1.7134, grad_fn=<NllLossBackward0>)\n",
      "105 loss= tensor(1.7536, grad_fn=<NllLossBackward0>)\n",
      "110 loss= tensor(2.1085, grad_fn=<NllLossBackward0>)\n",
      "115 loss= tensor(1.4997, grad_fn=<NllLossBackward0>)\n",
      "120 loss= tensor(1.7939, grad_fn=<NllLossBackward0>)\n",
      "125 loss= tensor(1.8161, grad_fn=<NllLossBackward0>)\n",
      "130 loss= tensor(1.9035, grad_fn=<NllLossBackward0>)\n",
      "135 loss= tensor(1.8148, grad_fn=<NllLossBackward0>)\n",
      "140 loss= tensor(1.7301, grad_fn=<NllLossBackward0>)\n",
      "145 loss= tensor(1.9390, grad_fn=<NllLossBackward0>)\n",
      "150 loss= tensor(1.9434, grad_fn=<NllLossBackward0>)\n",
      "155 loss= tensor(1.7089, grad_fn=<NllLossBackward0>)\n",
      "160 loss= tensor(1.8194, grad_fn=<NllLossBackward0>)\n",
      "165 loss= tensor(1.7805, grad_fn=<NllLossBackward0>)\n",
      "170 loss= tensor(1.9710, grad_fn=<NllLossBackward0>)\n",
      "175 loss= tensor(2.0497, grad_fn=<NllLossBackward0>)\n",
      "180 loss= tensor(1.6185, grad_fn=<NllLossBackward0>)\n",
      "185 loss= tensor(1.8639, grad_fn=<NllLossBackward0>)\n",
      "190 loss= tensor(1.8110, grad_fn=<NllLossBackward0>)\n",
      "195 loss= tensor(1.6154, grad_fn=<NllLossBackward0>)\n",
      "200 loss= tensor(1.9923, grad_fn=<NllLossBackward0>)\n",
      "205 loss= tensor(1.7260, grad_fn=<NllLossBackward0>)\n",
      "210 loss= tensor(1.8847, grad_fn=<NllLossBackward0>)\n",
      "215 loss= tensor(1.8727, grad_fn=<NllLossBackward0>)\n",
      "220 loss= tensor(2.1922, grad_fn=<NllLossBackward0>)\n",
      "225 loss= tensor(1.7540, grad_fn=<NllLossBackward0>)\n",
      "230 loss= tensor(1.8075, grad_fn=<NllLossBackward0>)\n",
      "235 loss= tensor(1.5809, grad_fn=<NllLossBackward0>)\n",
      "240 loss= tensor(2.0334, grad_fn=<NllLossBackward0>)\n",
      "245 loss= tensor(1.8963, grad_fn=<NllLossBackward0>)\n",
      "250 loss= tensor(1.8393, grad_fn=<NllLossBackward0>)\n",
      "255 loss= tensor(1.8404, grad_fn=<NllLossBackward0>)\n",
      "260 loss= tensor(1.8488, grad_fn=<NllLossBackward0>)\n",
      "265 loss= tensor(1.9033, grad_fn=<NllLossBackward0>)\n",
      "270 loss= tensor(1.7488, grad_fn=<NllLossBackward0>)\n",
      "275 loss= tensor(1.4058, grad_fn=<NllLossBackward0>)\n",
      "280 loss= tensor(1.5955, grad_fn=<NllLossBackward0>)\n",
      "285 loss= tensor(1.9286, grad_fn=<NllLossBackward0>)\n",
      "290 loss= tensor(1.6525, grad_fn=<NllLossBackward0>)\n",
      "295 loss= tensor(1.5856, grad_fn=<NllLossBackward0>)\n"
     ]
    }
   ],
   "source": [
    "training_loop( N_Epochs, model, loss_fn, opt )"
   ]
  },
  {
   "cell_type": "code",
   "execution_count": 119,
   "id": "e7bee50f",
   "metadata": {},
   "outputs": [],
   "source": [
    "\n",
    "\n",
    "def print_metrics_function(y_test, y_pred):\n",
    "    print('Accuracy: %.2f' % accuracy_score(y_test, y_pred))\n",
    "    confmat = confusion_matrix(y_true=y_test, y_pred=y_pred)\n",
    "    print(\"Confusion Matrix:\")\n",
    "    print(confmat)\n",
    "    print('Precision: %.3f' % precision_score(y_true=y_test, y_pred=y_pred, average='weighted'))\n",
    "    print('Recall: %.3f' % recall_score(y_true=y_test, y_pred=y_pred, average='weighted'))\n",
    "    print('F1-measure: %.3f' % f1_score(y_true=y_test, y_pred=y_pred, average='weighted'))\n",
    "\n"
   ]
  },
  {
   "cell_type": "code",
   "execution_count": 120,
   "id": "4152cfa4",
   "metadata": {},
   "outputs": [
    {
     "name": "stdout",
     "output_type": "stream",
     "text": [
      "Accuracy: 0.65\n",
      "Confusion Matrix:\n",
      "[[21  0  3  1 14  2  3  0  2]\n",
      " [ 0 45  0  0  0  0  6  7  7]\n",
      " [ 2  0 38  7  0  0  7  5  2]\n",
      " [ 1  0  3 48  0  2  0  0  0]\n",
      " [ 8  0  0  0 48  2  0  0  0]\n",
      " [ 5  0  1  8  0 47  1  0  0]\n",
      " [ 2  3 13  2  1  0 28  8  8]\n",
      " [ 3  7  1  0  0  0  4 38  9]\n",
      " [ 1  3  0  0  0  0  4 12 26]]\n",
      "Precision: 0.657\n",
      "Recall: 0.653\n",
      "F1-measure: 0.652\n"
     ]
    }
   ],
   "source": [
    "\n",
    "\n",
    "with torch.no_grad():\n",
    "    for x_real, y_real in test_dl:\n",
    "        \n",
    "        batch_size = x_real.shape[0]\n",
    "        \n",
    "        x_real = x_real.view(  (batch_size, -1 ) )\n",
    "        \n",
    "        y_pred = model(  x_real  )\n",
    "        \n",
    "        vals, indeces = torch.max( y_pred, dim=1  )\n",
    "        preds = indeces\n",
    "        print_metrics_function(y_real, preds)\n"
   ]
  },
  {
   "cell_type": "code",
   "execution_count": 121,
   "id": "1236aaad",
   "metadata": {},
   "outputs": [],
   "source": [
    "model.eval()\n",
    "\n",
    "dummy_input = torch.randn(1, 5)\n",
    "\n",
    "input_names  = [\"input1\"]\n",
    "output_names = [\"output1\"]\n",
    "\n",
    "torch.onnx.export(\n",
    "        model, \n",
    "        dummy_input,\n",
    "        \"Pitch_Type_Model_2.onnx\",\n",
    "        verbose=False,\n",
    "        input_names = input_names,\n",
    "        output_names = output_names\n",
    "        \n",
    ")\n"
   ]
  },
  {
   "cell_type": "code",
   "execution_count": null,
   "id": "17c9d489",
   "metadata": {},
   "outputs": [],
   "source": []
  }
 ],
 "metadata": {
  "kernelspec": {
   "display_name": "Python 3 (ipykernel)",
   "language": "python",
   "name": "python3"
  },
  "language_info": {
   "codemirror_mode": {
    "name": "ipython",
    "version": 3
   },
   "file_extension": ".py",
   "mimetype": "text/x-python",
   "name": "python",
   "nbconvert_exporter": "python",
   "pygments_lexer": "ipython3",
   "version": "3.11.4"
  }
 },
 "nbformat": 4,
 "nbformat_minor": 5
}
